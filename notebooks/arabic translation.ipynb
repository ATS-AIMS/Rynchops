{
 "cells": [
  {
   "cell_type": "markdown",
   "id": "00b408c5",
   "metadata": {},
   "source": [
    "# Arabic-Language to English Translation"
   ]
  },
  {
   "cell_type": "code",
   "execution_count": 1,
   "id": "4c4ae1d0",
   "metadata": {},
   "outputs": [],
   "source": [
    "# let's use m2m100\n",
    "from transformers import M2M100Config, M2M100ForConditionalGeneration, M2M100Tokenizer"
   ]
  },
  {
   "cell_type": "code",
   "execution_count": 2,
   "id": "e647db6e",
   "metadata": {},
   "outputs": [
    {
     "name": "stderr",
     "output_type": "stream",
     "text": [
      "C:\\Users\\elija\\Anaconda3\\envs\\summarizeapp\\lib\\site-packages\\transformers\\configuration_utils.py:336: UserWarning: Passing `gradient_checkpointing` to a config initialization is deprecated and will be removed in v5 Transformers. Using `model.gradient_checkpointing_enable()` instead, or if you are using the `Trainer` API, pass `gradient_checkpointing=True` in your `TrainingArguments`.\n",
      "  warnings.warn(\n"
     ]
    }
   ],
   "source": [
    "# load the tokenizer and model from HF model repo\n",
    "model = M2M100ForConditionalGeneration.from_pretrained('facebook/m2m100_418M')\n",
    "tokenizer = M2M100Tokenizer.from_pretrained('facebook/m2m100_418M', src_lang=\"ar\", tgt_lang=\"en\")"
   ]
  },
  {
   "cell_type": "code",
   "execution_count": 3,
   "id": "5294b5a6",
   "metadata": {},
   "outputs": [
    {
     "name": "stdout",
     "output_type": "stream",
     "text": [
      "Life is like a box of chocolate.\n"
     ]
    }
   ],
   "source": [
    "#should translate to: \"life is like a box of chocolates\"\n",
    "\n",
    "src_text = \"الحياة مثل علبة من الشوكولاتة\"\n",
    "\n",
    "model_inputs = tokenizer(src_text, return_tensors=\"pt\")\n",
    "outputs = model.generate(**model_inputs, forced_bos_token_id=tokenizer.get_lang_id('en'))\n",
    "\n",
    "with tokenizer.as_target_tokenizer():\n",
    "    translated = tokenizer.decode(outputs[0], skip_special_tokens=True)\n",
    "    \n",
    "print(translated)"
   ]
  },
  {
   "cell_type": "code",
   "execution_count": 4,
   "id": "872cac11",
   "metadata": {},
   "outputs": [],
   "source": [
    "# quick method to evaluate a string\n",
    "def translate(src_text):\n",
    "    model_inputs = tokenizer(src_text, return_tensors=\"pt\")\n",
    "    outputs = model.generate(**model_inputs, forced_bos_token_id=tokenizer.get_lang_id('en'))\n",
    "    with tokenizer.as_target_tokenizer():\n",
    "        translated = tokenizer.decode(outputs[0], skip_special_tokens=True)\n",
    "    return translated"
   ]
  },
  {
   "cell_type": "markdown",
   "id": "2a3a4cdd",
   "metadata": {},
   "source": [
    "Okay! Let's try this out."
   ]
  },
  {
   "cell_type": "code",
   "execution_count": 5,
   "id": "2af01745",
   "metadata": {},
   "outputs": [
    {
     "data": {
      "text/plain": [
       "'Promotion of technical services'"
      ]
     },
     "execution_count": 5,
     "metadata": {},
     "output_type": "execute_result"
    }
   ],
   "source": [
    "# I put \"Acclaim Technical Services\" into google translate en->ar, now we send it back.\n",
    "translate('اشادة الخدمات الفنية') "
   ]
  },
  {
   "cell_type": "code",
   "execution_count": 6,
   "id": "09a2482f",
   "metadata": {},
   "outputs": [
    {
     "data": {
      "text/plain": [
       "'Sudanese police have launched tear gas to disperse thousands of protesters demanding a democratic transformation in front of the Republican Palace in Khartoum, while the United Nations has warned of the deterioration of the humanitarian situation in Sudan and pointed out that 30 percent of the Sudanese people will need humanitarian aid next year.'"
      ]
     },
     "execution_count": 6,
     "metadata": {},
     "output_type": "execute_result"
    }
   ],
   "source": [
    "# Recent BBC Arabic article on Sudan\n",
    "translate('أطلقت قوات الشرطة السودانية الغاز المسيل للدموع لتفريق آلاف المتظاهرين المطالبين بالتحول الديمقراطي أمام القصر الجمهوري بالخرطوم، في وقت حذرت الأمم المتحدة من تدهور الأوضاع الإنسانية في السودان وأشارت إلى أن ثلاثين في المائة من الشعب السوداني سيحتاجون لمساعدة إنسانية العام المقبل.')"
   ]
  },
  {
   "cell_type": "code",
   "execution_count": 7,
   "id": "463ef94f",
   "metadata": {},
   "outputs": [
    {
     "data": {
      "text/plain": [
       "'Democracy in our region America is better than Italy, France or Britain.These minds our direction has not come out of the colonial period.Americans coexist with democracy if the internal movement wins it.The last period of racism in J.A. the two Democratic parties sought.'"
      ]
     },
     "execution_count": 7,
     "metadata": {},
     "output_type": "execute_result"
    }
   ],
   "source": [
    "# translate a casual arabic tweet about US's Africa Policy\n",
    "# https://twitter.com/AbdulHamtoun/status/1461836821915226119?s=20\n",
    "# ------------------------------------------------------------------------------\n",
    "# Democracy in our region has America better than Italy, France or Britain. \n",
    "# These people’s mentality towards us did not come out of the colonial period. \n",
    "# Americans coexist with democracy if the internal movement wins for it. And the crowd. \n",
    "# To finish it. Thatcher defended to the end\n",
    "\n",
    "translate('للديمقراطية بمنطقتنا امريكا أفضل من إيطاليا،فرنسا او بريطانيا.هؤلاء عقليتهم اتجاهنا لم تخرج من فترة الاستعمار.يتعايش الامريكان مع الديمقراطية اذا الحراك الداخلي انتصر له.آخر فترة العنصرية في ج.ا سعى الحزبين الديمق. والجمهو.لإنهائها.تاتشر دافعت حتى النهاية')"
   ]
  },
  {
   "cell_type": "code",
   "execution_count": null,
   "id": "0a652eaf",
   "metadata": {},
   "outputs": [],
   "source": [
    "# try it yourself\n",
    "translate(input('Insert Arabic Text Here: '))"
   ]
  }
 ],
 "metadata": {
  "kernelspec": {
   "display_name": "Python 3 (ipykernel)",
   "language": "python",
   "name": "python3"
  },
  "language_info": {
   "codemirror_mode": {
    "name": "ipython",
    "version": 3
   },
   "file_extension": ".py",
   "mimetype": "text/x-python",
   "name": "python",
   "nbconvert_exporter": "python",
   "pygments_lexer": "ipython3",
   "version": "3.8.11"
  }
 },
 "nbformat": 4,
 "nbformat_minor": 5
}
